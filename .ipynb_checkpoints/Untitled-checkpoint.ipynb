{
 "cells": [
  {
   "cell_type": "code",
   "execution_count": null,
   "id": "16053eee",
   "metadata": {
    "scrolled": false
   },
   "outputs": [],
   "source": [
    "from selenium import webdriver\n",
    "from selenium.webdriver.common.by import By\n",
    "import time\n",
    "import csv\n",
    "\n",
    "# ユーザプロファイルのフォルダ名(実行フォルダに作成されます)\n",
    "user_profile = r'C:\\Users\\shuns\\AppData\\Local\\Google\\Chrome\\User Data\\Default\\UserProfile'\n",
    "\n",
    "# Optionでユーザプロファイルの場所を指定する\n",
    "options = webdriver.ChromeOptions()\n",
    "options.add_argument('--user-data-dir=' + user_profile)\n",
    "\n",
    "driver = webdriver.Chrome(options=options)\n",
    "# ログイン\n",
    "driver.get(\"https://crowdworks.jp/dashboard\")\n",
    "time.sleep(2)\n",
    "# 対応が必要なタスクを選択\n",
    "driver.find_element(By.XPATH, '//*[@id=\"Content\"]/main/div[3]/div/div/section[1]/div[2]/table/tbody/tr[1]/td[4]/div/ul/li/div/a').click()\n",
    "# 出力ファイルに書き込み\n",
    "with open(\"sample.csv\", \"w\", newline=\"\", encoding=\"utf-8\") as f:\n",
    "    writer = csv.writer(f)\n",
    "    writer.writerow([\"ID\", \"passcode\", \"username\", \"approved\", \"completed\", \"gender\", \"age\"])\n",
    "    while True:\n",
    "        table_size = len(driver.find_element(By.XPATH, '//*[@id=\"Content\"]/div/div[2]/table/tbody').find_elements(By.TAG_NAME,\"tr\"))\n",
    "        # 1ページごとにforループを回す\n",
    "        for i in range(1, table_size+1):\n",
    "            user_url = driver.find_element(By.XPATH, '//*[@id=\"Content\"]/div/div[2]/table/tbody/tr['+str(i)+']/td[3]/div[2]/div[1]/a').get_attribute(\"href\")\n",
    "            result = re.search(r\"/([^/]+)/([^/]+)/([^/]+)/([^/]+)\", user_url)\n",
    "            if result:\n",
    "                fifth_string = result.group(4)               \n",
    "            passcode = driver.find_element(By.XPATH, '//*[@id=\"Content\"]/div/div[2]/table/tbody/tr['+str(i)+']/td[7]').text\n",
    "            username = driver.find_element(By.XPATH, '//*[@id=\"Content\"]/div/div[2]/table/tbody/tr['+str(i)+']/td[3]/div[2]/div[1]/a').text\n",
    "            approved = driver.find_element(By.XPATH, '//*[@id=\"Content\"]/div/div[2]/table/tbody/tr['+str(i)+']/td[3]/div[2]/div[2]/span').text\n",
    "            completed = driver.find_element(By.XPATH, '//*[@id=\"Content\"]/div/div[2]/table/tbody/tr['+str(i)+']/td[4]').text\n",
    "            gender = driver.find_element(By.XPATH, '//*[@id=\"Content\"]/div/div[2]/table/tbody/tr['+str(i)+']/td[5]/span').text\n",
    "            age = driver.find_element(By.XPATH, '//*[@id=\"Content\"]/div/div[2]/table/tbody/tr['+str(i)+']/td[6]').text\n",
    "            data = [fifth_string, passcode, username, approved, completed, gender, age]\n",
    "            writer.writerow(data)\n",
    "        # 次のページがあれば、そのページへ。なければ終了。\n",
    "        try:\n",
    "            driver.find_element(By.CSS_SELECTOR, \"a[rel='next']\").click()\n",
    "            time.sleep(2)\n",
    "        except:\n",
    "            break\n",
    "            \n",
    "            "
   ]
  },
  {
   "cell_type": "markdown",
   "id": "a0dcbda2",
   "metadata": {},
   "source": [
    "#### "
   ]
  }
 ],
 "metadata": {
  "kernelspec": {
   "display_name": "Python 3 (ipykernel)",
   "language": "python",
   "name": "python3"
  },
  "language_info": {
   "codemirror_mode": {
    "name": "ipython",
    "version": 3
   },
   "file_extension": ".py",
   "mimetype": "text/x-python",
   "name": "python",
   "nbconvert_exporter": "python",
   "pygments_lexer": "ipython3",
   "version": "3.9.7"
  }
 },
 "nbformat": 4,
 "nbformat_minor": 5
}
